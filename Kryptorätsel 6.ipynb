{
 "cells": [
  {
   "cell_type": "markdown",
   "metadata": {},
   "source": [
    "# Galoisfeld\n",
    "\n",
    "Alice nutzt eine Tauschchiffre über dem Körper $GF(2^4)$: Ein 4-Bit-Klartextzeichen $k$ wird zum 4-Bit-Geheimtextzeichen $c$ durch $c = k\\cdot a + b (in GF(2^4))$ verschlüsselt. Dabei stellen $a$ und $b$ (aus $GF(2^4)$) den geheimen Schlüssel dar.\n",
    "\n",
    "Rechnungen im Körper $GF(2^4)$ werden wie folgt durchgeführt:\n",
    "Die Addition entspricht einem Bit-weisen XOR.\n",
    "Für die Multiplikation wird ein 4-Bit-Zeichen als Polynom mit den entsprechenden Koeffizienten aufgefasst (z.B. $1101$ als $x^3+x^2+1$ und $0110$ als $x^2+x$), dann multipliziert (wobei die Koeffizienten modulo 2 berechnet werden) und modulo $g(x)=x^4+x+1$ genommen (Rest bei der Polynomdivision durch $g(x)$, auch hier alles modulo 2); das resultierende Polynom wird dann wieder als 4-Bit-Zeichen aufgefasst; bei $1101$ und $0110$ ergibt sich beispielsweise\n",
    "\n",
    "$(x^3+x^2+1) \\cdot (x^2+x) = x^5+x^3+x^2+x$\n",
    "\n",
    "und $(x^5+x^3+x^2+x) : x^4+x+1 = x$, Rest $x^3$,\n",
    "\n",
    "also: $1101 \\cdot 0110 = 1000$.\n",
    "\n",
    "Mallory beobachtet nun, dass das Klartextzeichen $1011$ in das Geheimtextzeichen $0111$ und das Klartextzeichen $0110$ in das Geheimtextzeichen $1001$ verschlüsselt wird.\n",
    "\n",
    "Welchen Schlüssel, d.h. welche $a$ und $b$, nutzt Alice?\n",
    "\n",
    "### Lösung\n",
    "\n",
    "$0111_2 \\equiv 1011_2 \\cdot a + b \\ GF(2^4)$\n",
    "\n",
    "$1001_2 \\equiv 0110_2 \\cdot a + b \\ GF(2^4)$\n",
    "\n",
    "$\\therefore \\ (0111_2 + 1001_2) \\equiv (1011_2+0110_2) \\cdot a \\ GF(2^4)$\n",
    "\n",
    "$\\therefore \\ a \\equiv (1011_2+0110_2)^{-1} \\cdot (0111_2 + 1001_2) \\ GF(2^4)$\n",
    "\n",
    "$\\therefore \\ b \\equiv 0111_2 + 1011_2 \\cdot a \\ GF(2^4)$\n",
    "\n",
    "Die Lösung für $a^{-1}$ kann mittels des Euklidischen Algorithmus gefunden werden."
   ]
  },
  {
   "cell_type": "code",
   "execution_count": 67,
   "metadata": {},
   "outputs": [
    {
     "name": "stdout",
     "output_type": "stream",
     "text": [
      "Test bestanden! Der Schlüssel lautet: A = 1101 und B = 1\n"
     ]
    }
   ],
   "source": [
    "class GF:\n",
    "    def __init__(self, val):\n",
    "        self.val = val\n",
    "    \n",
    "    def __add__(self, other):\n",
    "        s = self.val ^ other.val\n",
    "        for i in range(3, -1, -1):\n",
    "            if s > 0b10011<<i:\n",
    "                s ^= 0b10011<<i\n",
    "        return GF(s)\n",
    "    \n",
    "    def __mul__(self, other):\n",
    "        result = 0\n",
    "        for i in range(4):\n",
    "            if other.val & (1<<i):\n",
    "                result ^= self.val<<i\n",
    "        for i in range(3, -1, -1):\n",
    "            if result > 0b10011<<i:\n",
    "                result ^= 0b10011<<i\n",
    "        return GF(result)\n",
    "\n",
    "    def __truediv__(self, other):\n",
    "        result = 0\n",
    "        divident = self.val\n",
    "        for i in range(3, -1, -1):\n",
    "            if divident > (divident ^ (other.val<<i)):\n",
    "                divident ^= other.val<<i\n",
    "                result ^= 1<<i\n",
    "        return GF(result)\n",
    "    \n",
    "    def __eq__(self, other):\n",
    "        return self.val == other.val\n",
    "    \n",
    "    def inverse(self):\n",
    "        t, t_ = GF(0), GF(1)\n",
    "        r, r_ = GF(0b10011), self\n",
    "        while r_.val != 0:\n",
    "            q = r / r_\n",
    "            r, r_ = r_,  r + q * r_\n",
    "            t, t_ = t_,  t + q * t_\n",
    "        return (GF(1) / r) * t\n",
    "\n",
    "\n",
    "p0 = GF(0b1011)\n",
    "c0 = GF(0b0111)\n",
    "p1 = GF(0b0110)\n",
    "c1 = GF(0b1001)\n",
    "\n",
    "a = (p0+p1).inverse()*(c0+c1)\n",
    "b = p0 * a + c0\n",
    "\n",
    "if p0*a+b == c0 and p1*a+b == c1:\n",
    "    print(f\"Test bestanden! Der Schlüssel lautet: A = {bin(a.val)[2:]} und B = {bin(b.val)[2:]}\")"
   ]
  }
 ],
 "metadata": {
  "kernelspec": {
   "display_name": "Python 3",
   "language": "python",
   "name": "python3"
  },
  "language_info": {
   "codemirror_mode": {
    "name": "ipython",
    "version": 3
   },
   "file_extension": ".py",
   "mimetype": "text/x-python",
   "name": "python",
   "nbconvert_exporter": "python",
   "pygments_lexer": "ipython3",
   "version": "3.7.4"
  }
 },
 "nbformat": 4,
 "nbformat_minor": 2
}
