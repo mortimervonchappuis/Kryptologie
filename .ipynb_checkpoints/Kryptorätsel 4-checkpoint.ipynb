{
 "cells": [
  {
   "cell_type": "markdown",
   "metadata": {},
   "source": [
    "# Onetime Pad\n",
    "\n",
    "Bob möchte zwei Nachrichten an Alice senden und will diese mit einem One-Time-Pad verschlüsseln. Allerdings macht er einen Fehler und benutzt beidesmal das gleiche One-Time-Pad.\n",
    "Mallory fängt die beiden Geheimtexte ab. Er weiß außerdem, dass in dem ersten Klartext das Wort `KRYPTOLOGIE` vorkommt.\n",
    "Die beiden Geheimtexte sind:\n",
    "\n",
    "$C_1$:\n",
    "`DVJTTGFEDZMBFQMDLRNNCVISFPZUUYUKRKBNOVFAIIPIUIPLZS`\n",
    "\n",
    "$C_2$:\n",
    "`MVYNKVUXDBCOFYIASRPJTACAOUPUUCGMSXBURPHCTPZPPNIXJX`\n",
    "\n",
    "\n",
    "Es gilt:\n",
    "$$P_1 + K = C_1$$\n",
    "$$P_2 + K = C_2$$\n",
    "$$ P_2 = C_2 - (C_1 - P_1)$$\n",
    "Da Teile von $P_1$ (`KRYPTOLOGIE`) bereits bekannt sind, muss der bekannte Teil durch alle Positionen geschoben werden, bis wir ein deutsches Wort für den korrespondierenden Teil zu $P_2$ erhalten. Von dieses Wort wird häufig nur teilweise Vorhanden sein, weshalb durch eine manuelle Ergänzung zu $P_2$ ein weiterer Teil von $P_1$ aufgedeckt wird. Dieses Verfahren wird nun solange wiederholt, bis beide Teile aufgedeckt wurden."
   ]
  },
  {
   "cell_type": "code",
   "execution_count": 1,
   "metadata": {},
   "outputs": [
    {
     "name": "stdout",
     "output_type": "stream",
     "text": [
      "0 TRNJKDAHGKU\n",
      "1  KGSGIDEOIYR\n",
      "2   ZLPEIHLQWVE\n",
      "3    EINEMONETIM\n",
      "4     BGNITQBBGQA\n",
      "5      ZGRPVEYOOEB\n",
      "6       ZKYRJBLWCFL\n",
      "7        DRAFGOTKDPE\n",
      "8         KTOCTWHLNIG\n",
      "9          MHLPBKIVGKA\n",
      "10           AEYXPLSOIEV\n",
      "11            XRGLQVLQCZJ\n",
      "12             KZUMAONKXNY\n",
      "13              SNVWTQHFLCM\n",
      "14               GOFPVKCTAQN\n",
      "15                HYYRPFQIORJ\n",
      "16                 RRALKTFWPNU\n",
      "17                  KTUGYITXLYE\n",
      "18                   MNPUNWUTWIE\n",
      "19                    GIDJBXQEGII\n",
      "20                     BWSXCTBOGMQ\n",
      "21                      PLGYYELOKUG\n",
      "22                       EZHUJOLSSKF\n",
      "23                        SADFTOPAIJR\n",
      "24                         TWOPTSXQHVE\n",
      "25                          PHYPXANPTIL\n",
      "26                           ARYTFQMBGPH\n",
      "27                            KRCBVPYONLY\n",
      "28                             KVKRUBLVJCG\n",
      "29                              ODAQGOSRAKG\n",
      "30                               WTZCTVOIIKP\n",
      "31                                MSLPARFQITL\n",
      "32                                 LEYWWINQRPO\n",
      "33                                  XRFSNQNZNSL\n",
      "34                                   KYBJVQWVQPZ\n",
      "35                                    RUSRVZSYNDJ\n",
      "36                                     NLAREVVVBNX\n",
      "37                                      ETAAAYSJLBQ\n",
      "38                                       MTJWDVGTZUO\n",
      "39                                        MCFZAJQHSSJ\n",
      "40                                         VYIWOTEAQN\n",
      "41                                          RBFKYHXYL\n",
      "42                                           UYTUMAVT\n",
      "43                                            RMDIFYQ\n",
      "44                                             FWRBDT\n",
      "45                                              PKKZY\n",
      "46                                               DDIU\n",
      "47                                                WBD\n",
      "48                                                 UW\n",
      "49                                                  P\n"
     ]
    }
   ],
   "source": [
    "class Letter:\n",
    "    def __init__(self, val):\n",
    "        self.alpha = \"ABCDEFGHIJKLMNOPQRSTUVWXYZ\"\n",
    "        if type(val) == int:\n",
    "            self.char = self.alpha[val]\n",
    "            self.idx = val\n",
    "        elif type(val) == str:\n",
    "            self.char = val.upper()\n",
    "            self.idx = self.alpha.find(val)\n",
    "    \n",
    "    def __str__(self):\n",
    "        return self.char\n",
    "    \n",
    "    def __add__(self, other):\n",
    "        if type(other) == int:\n",
    "            return Letter((self.idx + other)%len(self.alpha))\n",
    "        elif type(other) == Letter:\n",
    "            return Letter((self.idx + other.idx)%len(self.alpha))\n",
    "\n",
    "    def __sub__(self, other):\n",
    "        if type(other) == int:\n",
    "            return Letter((self.idx - other)%len(self.alpha))\n",
    "        elif type(other) == Letter:\n",
    "            return Letter((self.idx - other.idx)%len(self.alpha))\n",
    "\n",
    "\n",
    "class Text:\n",
    "    def __init__(self, val):\n",
    "        if type(val) == str:\n",
    "            self.text = val\n",
    "            self.letters = [Letter(char) for char in val]\n",
    "        elif type(val) == list:\n",
    "            self.text = \"\".join(str(letter) for letter in val)\n",
    "            self.letters = val\n",
    "    \n",
    "    def __str__(self):\n",
    "        return \"\".join(str(letter) for letter in self.letters)\n",
    "    \n",
    "    def __len__(self):\n",
    "        return len(self.text)\n",
    "    \n",
    "    def __add__(self, other):\n",
    "        return Text([a + b for a, b in zip(self.letters, other.letters)])\n",
    "    \n",
    "    def __sub__(self, other):\n",
    "        return Text([a - b for a, b in zip(self.letters, other.letters)])\n",
    "    \n",
    "    def __lshift__(self, i):\n",
    "        return Text(self.text[i:] + self.text[:i])\n",
    "    \n",
    "    def __rshift__(self, i):\n",
    "        return Text(self.text[-i:] + self.text[:-i])\n",
    "    \n",
    "\n",
    "def fill(text):\n",
    "    return Text(text+\"A\"*(50-len(text)))\n",
    "    \n",
    "c_1 = Text(\"DVJTTGFEDZMBFQMDLRNNCVISFPZUUYUKRKBNOVFAIIPIUIPLZS\")\n",
    "c_2 = Text(\"MVYNKVUXDBCOFYIASRPJTACAOUPUUCGMSXBURPHCTPZPPNIXJX\")\n",
    "p_1 = fill(\"KRYPTOLOGIE\")\n",
    "for i in range(len(c_1)):\n",
    "    p_2 = c_2 - (c_1 - (p_1>>i))\n",
    "    print(str(i).zfill(1), \" \"*i + str(p_2)[i:i+len(\"KRYPTOLOGIE\")])"
   ]
  },
  {
   "cell_type": "markdown",
   "metadata": {},
   "source": [
    "Wie sich unschwer in Zeile 3 erkennen lässt, beginnt ab dritter Stelle in $P_1$ das Wort `KRYPTOLOGIE`. Manuell kann nun ein dreistelliges Wort ergänzt werden. Hierzu bietet sich der Artikel `DIE` an."
   ]
  },
  {
   "cell_type": "code",
   "execution_count": 2,
   "metadata": {},
   "outputs": [
    {
     "name": "stdout",
     "output_type": "stream",
     "text": [
      "MITEINEMONETIM\n"
     ]
    }
   ],
   "source": [
    "plain = \"DIEKRYPTOLOGIE\"\n",
    "\n",
    "p_1 = fill(plain)\n",
    "p_2 = c_2 - (c_1 - p_1)\n",
    "print(str(p_2)[:len(plain)])"
   ]
  },
  {
   "cell_type": "markdown",
   "metadata": {},
   "source": [
    "Das zu $P_1 = $ `DIEKRYPTOLOGIE` $\\dots$ korrespondierende $P_2 = $ `EINEMONETIM` und ist vollständig vermutlich `EINEMONETIMEPAD`. Von hieran kann durch manuelle Vervolständigung von $P_{1_n} \\rightarrow P_{2_{n+1}}$ und $P_{2_n} \\rightarrow P_{1_{n+1}}$ geschlossen werden."
   ]
  },
  {
   "cell_type": "code",
   "execution_count": 3,
   "metadata": {},
   "outputs": [
    {
     "name": "stdout",
     "output_type": "stream",
     "text": [
      "DIEKRYPTOLOGIEISTD\n"
     ]
    }
   ],
   "source": [
    "plain = \"MITEINEMONETIMEPAD\"\n",
    "\n",
    "p_2 = fill(plain)\n",
    "p_1 = c_1 - (c_2 - p_2)\n",
    "print(str(p_1)[:len(plain)])"
   ]
  },
  {
   "cell_type": "code",
   "execution_count": 4,
   "metadata": {},
   "outputs": [
    {
     "name": "stdout",
     "output_type": "stream",
     "text": [
      "MITEINEMONETIMEPADKA\n"
     ]
    }
   ],
   "source": [
    "plain = \"DIEKRYPTOLOGIEISTDIE\"\n",
    "\n",
    "p_1 = fill(plain)\n",
    "p_2 = c_2 - (c_1 - p_1)\n",
    "print(str(p_2)[:len(plain)])"
   ]
  },
  {
   "cell_type": "code",
   "execution_count": 5,
   "metadata": {},
   "outputs": [
    {
     "name": "stdout",
     "output_type": "stream",
     "text": [
      "DIEKRYPTOLOGIEISTDIEWI\n"
     ]
    }
   ],
   "source": [
    "plain = \"MITEINEMONETIMEPADKANN\"\n",
    "\n",
    "p_2 = fill(plain)\n",
    "p_1 = c_1 - (c_2 - p_2)\n",
    "print(str(p_1)[:len(plain)])"
   ]
  },
  {
   "cell_type": "code",
   "execution_count": 6,
   "metadata": {},
   "outputs": [
    {
     "name": "stdout",
     "output_type": "stream",
     "text": [
      "MITEINEMONETIMEPADKANNMANSICHERV\n"
     ]
    }
   ],
   "source": [
    "plain = \"DIEKRYPTOLOGIEISTDIEWISSENSCHAFT\"\n",
    "\n",
    "p_1 = fill(plain)\n",
    "p_2 = c_2 - (c_1 - p_1)\n",
    "print(str(p_2)[:len(plain)])"
   ]
  },
  {
   "cell_type": "code",
   "execution_count": 7,
   "metadata": {},
   "outputs": [
    {
     "name": "stdout",
     "output_type": "stream",
     "text": [
      "DIEKRYPTOLOGIEISTDIEWISSENSCHAFTDESVERSCHLUES\n"
     ]
    }
   ],
   "source": [
    "plain = \"MITEINEMONETIMEPADKANNMANSICHERVERSCHLUESSELN\"\n",
    "\n",
    "p_2 = fill(plain)\n",
    "p_1 = c_1 - (c_2 - p_2)\n",
    "print(str(p_1)[:len(plain)])"
   ]
  },
  {
   "cell_type": "code",
   "execution_count": 8,
   "metadata": {},
   "outputs": [
    {
     "name": "stdout",
     "output_type": "stream",
     "text": [
      "MITEINEMONETIMEPADKANNMANSICHERVERSCHLUESSELNXXXXX\n"
     ]
    }
   ],
   "source": [
    "plain = \"DIEKRYPTOLOGIEISTDIEWISSENSCHAFTDESVERSCHLUESSELNS\"\n",
    "\n",
    "p_1 = fill(plain)\n",
    "p_2 = c_2 - (c_1 - p_1)\n",
    "print(str(p_2)[:len(plain)])"
   ]
  },
  {
   "cell_type": "code",
   "execution_count": 9,
   "metadata": {},
   "outputs": [
    {
     "name": "stdout",
     "output_type": "stream",
     "text": [
      "ANFJCIQLPOYVXMELSOFJGNQABCHSNYPROGJSKENYBXVECQLAMA\n"
     ]
    }
   ],
   "source": [
    "p_1 = Text(\"DIEKRYPTOLOGIEISTDIEWISSENSCHAFTDESVERSCHLUESSELNS\")\n",
    "k = c_1 - p_1\n",
    "print(str(k))"
   ]
  },
  {
   "cell_type": "markdown",
   "metadata": {},
   "source": [
    "$P_1$:\n",
    "`DIEKRYPTOLOGIEISTDIEWISSENSCHAFTDESVERSCHLUESSELNS`\n",
    "\n",
    "$P_2$:\n",
    "`MITEINEMONETIMEPADKANNMANSICHERVERSCHLUESSELNXXXXX`\n",
    "\n",
    "$K$:\n",
    "`ANFJCIQLPOYVXMELSOFJGNQABCHSNYPROGJSKENYBXVECQLAMA`"
   ]
  }
 ],
 "metadata": {
  "kernelspec": {
   "display_name": "Python 3",
   "language": "python",
   "name": "python3"
  },
  "language_info": {
   "codemirror_mode": {
    "name": "ipython",
    "version": 3
   },
   "file_extension": ".py",
   "mimetype": "text/x-python",
   "name": "python",
   "nbconvert_exporter": "python",
   "pygments_lexer": "ipython3",
   "version": "3.7.4"
  }
 },
 "nbformat": 4,
 "nbformat_minor": 2
}
