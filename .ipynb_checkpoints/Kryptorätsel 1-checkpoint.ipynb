{
 "cells": [
  {
   "cell_type": "markdown",
   "metadata": {},
   "source": [
    "# Monoalphabetische Verschlüsselung\n",
    "\n",
    "Folgender Text wurde monoalphabetisch über dem englische Alphabet verschlüsselt:\n",
    "\n",
    "RTI TIWTN FTNMYGZHTMMTZHWL SVXXJ TM WIYGJ WHN PKNKHO KW FITZT MYGZHTMMTZ AH GKRTW TM PKNO KHYG WIYGJ XVTLZIYG MTIW PHNYG KWPTNT FTNOKGNTW PTW YVPT AH SWKYSTW\n",
    "\n",
    "### Häufigkeitsanalyse"
   ]
  },
  {
   "cell_type": "code",
   "execution_count": 1,
   "metadata": {},
   "outputs": [
    {
     "name": "stdout",
     "output_type": "stream",
     "text": [
      "{'A': 0.015151515151515152, 'B': 0.0, 'C': 0.0, 'D': 0.0, 'E': 0.0, 'F': 0.022727272727272728, 'G': 0.06818181818181818, 'H': 0.06818181818181818, 'I': 0.05303030303030303, 'J': 0.022727272727272728, 'K': 0.06818181818181818, 'L': 0.015151515151515152, 'M': 0.06818181818181818, 'N': 0.06818181818181818, 'O': 0.022727272727272728, 'P': 0.045454545454545456, 'Q': 0.0, 'R': 0.015151515151515152, 'S': 0.022727272727272728, 'T': 0.16666666666666666, 'U': 0.0, 'V': 0.022727272727272728, 'W': 0.09848484848484848, 'X': 0.022727272727272728, 'Y': 0.06818181818181818, 'Z': 0.045454545454545456}\n"
     ]
    }
   ],
   "source": [
    "ciphertext = \"RTI TIWTN FTNMYGZHTMMTZHWL SVXXJ TM WIYGJ WHN PKNKHO KW FITZT MYGZHTMMTZ AH GKRTW TM PKNO KHYG WIYGJ XVTLZIYG MTIW PHNYG KWPTNT FTNOKGNTW PTW YVPT AH SWKYSTW\"\n",
    "\n",
    "german = {'A': 0.0651, 'B': 0.0189, 'C': 0.0306, 'D': 0.0508, 'E': 0.174, 'F': 0.0166, 'G': 0.0301, 'H': 0.0476, 'I': 0.0755, 'J': 0.0027, 'K': 0.0121, 'L': 0.0344, 'M': 0.0253, 'N': 0.0978, 'O': 0.02501, 'P': 0.0079, 'Q': 0.0002, 'R': 0.07, 'S': 0.0727, 'T': 0.0615, 'U': 0.0435, 'V': 0.0067, 'W': 0.0189, 'X': 0.0003, 'Y': 0.0004, 'Z': 0.0113}\n",
    "alphabet = list(\"ABCDEFGHIJKLMNOPQRSTUVWXYZ\")\n",
    "\n",
    "def frequency(text):\n",
    "    text = text.replace(\" \", \"\")\n",
    "    return {char: text.count(char)/len(text) for char in alphabet}\n",
    "\n",
    "freq = frequency(ciphertext)\n",
    "print(freq)"
   ]
  },
  {
   "cell_type": "markdown",
   "metadata": {},
   "source": [
    "Als nächstes ordnen wir die Buchstaben entsprechend ihren erwarteten Häufigkeiten in einer Übersetzungstabelle einander zu."
   ]
  },
  {
   "cell_type": "code",
   "execution_count": 2,
   "metadata": {},
   "outputs": [
    {
     "name": "stdout",
     "output_type": "stream",
     "text": [
      "{'T': 'E', 'W': 'N', 'G': 'I', 'H': 'S', 'K': 'R', 'M': 'A', 'N': 'T', 'Y': 'D', 'I': 'H', 'P': 'U', 'Z': 'L', 'F': 'C', 'J': 'G', 'O': 'M', 'S': 'O', 'V': 'B', 'X': 'W', 'A': 'F', 'L': 'K', 'R': 'Z', 'B': 'P', 'C': 'V', 'D': 'J', 'E': 'Y', 'Q': 'X', 'U': 'Q'}\n"
     ]
    }
   ],
   "source": [
    "freq_sorted = sorted(freq.items(), key=lambda x: x[1], reverse=True)\n",
    "german_sorted = sorted(german.items(), key=lambda x: x[1], reverse=True)\n",
    "translation = {f[0]: g[0] for f, g in zip(freq_sorted, german_sorted)}\n",
    "\n",
    "print(translation)"
   ]
  },
  {
   "cell_type": "markdown",
   "metadata": {},
   "source": [
    "Wir ersetzten die Buchstaben des Chiffrats durch unsere Übersetztungstabelle."
   ]
  },
  {
   "cell_type": "code",
   "execution_count": 3,
   "metadata": {},
   "outputs": [
    {
     "name": "stdout",
     "output_type": "stream",
     "text": [
      "zeh ehnet cetadilseaaelsnk obwwg ea nhdig nst urtrsm rn chele adilseaael fs irzen ea urtm rsdi nhdig wbeklhdi aehn ustdi rnuete cetmriten uen dbue fs onrdoen\n"
     ]
    }
   ],
   "source": [
    "def translate(text, translation):\n",
    "    for char in translation.keys():\n",
    "        text = text.replace(char, translation[char].swapcase())\n",
    "    return text\n",
    "\n",
    "plain = translate(ciphertext, translation)\n",
    "\n",
    "print(plain)"
   ]
  },
  {
   "cell_type": "markdown",
   "metadata": {},
   "source": [
    "### Anpassung\n",
    "\n",
    "Das Ergebnis der Übersetzung ist unvollständig, lässt jedoch eine gewisse Ähnlichkeit zum Deutschen erkenne. Im letzten Schritt machen wir ein paar Anpassungen durch scharfes Hinschauen."
   ]
  },
  {
   "cell_type": "code",
   "execution_count": 4,
   "metadata": {},
   "outputs": [
    {
     "name": "stdout",
     "output_type": "stream",
     "text": [
      "BEI EINER VERSCHLUESSELUNG KOMMT ES NICHT NUR DARAUF AN VIELE SCHLUESSEL ZU HABEN ES DARF AUCH NICHT MOEGLICH SEIN DURCH ANDERE VERFAHREN DEN CODE ZU KNACKEN\n"
     ]
    }
   ],
   "source": [
    "translation = {\"a\":\"s\", \"h\":\"i\", \"t\":\"r\", \"d\":\"c\", \"i\": \"h\", \"s\":\"u\", \"c\":\"v\", \"z\":\"b\", \"k\":\"g\", \"r\":\"a\", \"u\":\"d\", \"m\":\"f\", \"o\":\"k\", \"b\":\"o\", \"f\":\"z\", \"w\":\"m\", \"g\":\"t\"}\n",
    "\n",
    "plain = translate(plain, translation)\n",
    "print(plain.upper())"
   ]
  }
 ],
 "metadata": {
  "kernelspec": {
   "display_name": "Python 3",
   "language": "python",
   "name": "python3"
  },
  "language_info": {
   "codemirror_mode": {
    "name": "ipython",
    "version": 3
   },
   "file_extension": ".py",
   "mimetype": "text/x-python",
   "name": "python",
   "nbconvert_exporter": "python",
   "pygments_lexer": "ipython3",
   "version": "3.7.4"
  }
 },
 "nbformat": 4,
 "nbformat_minor": 2
}
