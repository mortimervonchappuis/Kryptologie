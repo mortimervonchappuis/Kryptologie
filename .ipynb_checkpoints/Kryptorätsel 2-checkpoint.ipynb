{
 "cells": [
  {
   "cell_type": "markdown",
   "metadata": {},
   "source": [
    "# Polyalphabetische Verschlüsselung\n",
    "\n",
    "Folgender Text wurde mittels einer Vigènereverschlüsselung chiffriert:\n",
    "\n",
    "`PIXRVKPMVPAGBLPMELZXEIVOEGCAPRPIXIIUDXUKQBBLXQKKFTFOZYEBHBLQADXYRQRXZGTRXPFIEBZIMUVOODYIASSR\n",
    " TMMQUGKODYIASMNTSCEEFVHQRGLVQSVOVQIUDIUSXHYOHDYCBTTUEXYLLYZTXYXQIELRPIXZIQIGAIULNUKQNMDMOKXS\n",
    " XQDXYVGSLPWOHTTIDIDHRUSVOIWRRWXALHNIIIESMMMYYMQDFHRQNWLHQSXYWFEGDIXTDYMQGXZZANBOQETTTQQNLVAA\n",
    " HEKMQBXNVUFYZHQFBUMFIHUIZWBLEGCAKMQAUNVQNSBRSUGAIDEBUEZDXYHQMYVPSEGKFQSVOEQFMPKFSBJLPIXRVKPM\n",
    " VKDAIOMQMBAHQRXUXIIVRPGNZBRPAGDIZDNUKPEKLMZZXSRQNOLVRAAYIZUGKHUEDYCBTHHRMLRZIYIMKIDEGZXMEKRI\n",
    " ZUGKWOHPHIOHXUEZDXYWROKTYXIXYXNEYHWETLPGTDBLODYIASSRTWLUEFPXPEKZMOHXYLQIMKIDEBNIZEGNITEBTIZK\n",
    " HTQGNBREFIHUKQGXUYZBXMYSTXLRFZBMJQRNUKADXYZQRTLRPEKBRSWTLLDEGKHUEDYCBTHHRMLRZICUTZMMLLNISEGZ\n",
    " TUEELVUNWLVWRRWXAGKHTTIXKEEBKLGTEGKIDSBJLQRALMFDXYOAMFBRUKTAMANSBQLIXSLMTDYCBTHNVMPAPIGNWRVK\n",
    " PMVEZAEFWQWXYHQNWHLQRTBGTAEZHQFXUWUVXBRPOYMIZSBCIWRRWXALHNMQBXGIUCAUIF`\n",
    "\n",
    "### Schlüssellänge\n",
    "\n",
    "Zuerst möchten wir versuchen die Schlüssellänge $|K|$ mittels Autokorrelation zu bestimmen, um das Chiffrat zu partitionieren."
   ]
  },
  {
   "cell_type": "code",
   "execution_count": 5,
   "metadata": {},
   "outputs": [
    {
     "data": {
      "image/png": "[encoded data removed]",
      "text/plain": [
       "<Figure size 432x288 with 1 Axes>"
      ]
     },
     "metadata": {
      "needs_background": "light"
     },
     "output_type": "display_data"
    }
   ],
   "source": [
    "%matplotlib inline\n",
    "from matplotlib import pyplot as plt\n",
    "\n",
    "ciphertext = \"PIXRVKPMVPAGBLPMELZXEIVOEGCAPRPIXIIUDXUKQBBLXQKKFTFOZYEBHBLQADXYRQRXZGTRXPFIEBZIMUVOODYIASSRTMMQUGKODYIASMNTSCEEFVHQRGLVQSVOVQIUDIUSXHYOHDYCBTTUEXYLLYZTXYXQIELRPIXZIQIGAIULNUKQNMDMOKXSXQDXYVGSLPWOHTTIDIDHRUSVOIWRRWXALHNIIIESMMMYYMQDFHRQNWLHQSXYWFEGDIXTDYMQGXZZANBOQETTTQQNLVAAHEKMQBXNVUFYZHQFBUMFIHUIZWBLEGCAKMQAUNVQNSBRSUGAIDEBUEZDXYHQMYVPSEGKFQSVOEQFMPKFSBJLPIXRVKPMVKDAIOMQMBAHQRXUXIIVRPGNZBRPAGDIZDNUKPEKLMZZXSRQNOLVRAAYIZUGKHUEDYCBTHHRMLRZIYIMKIDEGZXMEKRIZUGKWOHPHIOHXUEZDXYWROKTYXIXYXNEYHWETLPGTDBLODYIASSRTWLUEFPXPEKZMOHXYLQIMKIDEBNIZEGNITEBTIZKHTQGNBREFIHUKQGXUYZBXMYSTXLRFZBMJQRNUKADXYZQRTLRPEKBRSWTLLDEGKHUEDYCBTHHRMLRZICUTZMMLLNISEGZTUEELVUNWLVWRRWXAGKHTTIXKEEBKLGTEGKIDSBJLQRALMFDXYOAMFBRUKTAMANSBQLIXSLMTDYCBTHNVMPAPIGNWRVKPMVEZAEFWQWXYHQNWHLQRTBGTAEZHQFXUWUVXBRPOYMIZSBCIWRRWXALHNMQBXGIUCAUIF\"\n",
    "\n",
    "def auto_correlation(text):\n",
    "    return [sum(text[n] == text[n+shift] for n in range(len(text)-shift)) for shift in range(1, len(text))]\n",
    "\n",
    "x = auto_correlation(ciphertext)\n",
    "\n",
    "plt.step(list(range(1, len(ciphertext)))[:100], x[:100])\n",
    "plt.xlabel(\"Verschiebungen\")\n",
    "plt.ylabel(\"Übereinstimmungen\")\n",
    "plt.title(\"Autokorrelation\")\n",
    "plt.show()"
   ]
  },
  {
   "cell_type": "markdown",
   "metadata": {},
   "source": [
    "Anhand des Graphen lässt sich bereits eine regelmäßige Periode erkennen. Aus dem Datensatz ließe sich nun die $|K|$ per Augenmaß ablesen, stattdessen wollen wir jedoch einen präzieseren Lösungsansatz wählen. Um die Frequenz der Periode zu bestimmen verwenden wir eine Variation der diskrete Fouriertransformation.\n",
    "$$ \\mathcal {F}_x(\\xi) = \\sum_{n=0}^{N-1}{x_n e^{-\\frac{i \\tau n}{\\xi}}} $$\n",
    "Wir betrachten das Interval $[ 2, 30]$."
   ]
  },
  {
   "cell_type": "code",
   "execution_count": 6,
   "metadata": {},
   "outputs": [
    {
     "data": {
      "image/png": "[encoded data removed]",
      "text/plain": [
       "<Figure size 432x288 with 1 Axes>"
      ]
     },
     "metadata": {
      "needs_background": "light"
     },
     "output_type": "display_data"
    }
   ],
   "source": [
    "from math import tau, e\n",
    "\n",
    "def fourier(x, k):\n",
    "    return sum(x[n]*e**(-1j*tau*n/k) for n in range(0, len(x)))\n",
    "\n",
    "transform = [abs(fourier(x, k)) for k in range(2,30)]\n",
    "\n",
    "plt.step(list(range(2, 30)), transform, where='mid')\n",
    "plt.xlabel(\"Periode\")\n",
    "plt.ylabel(\"Amplitude\")\n",
    "plt.title(\"Fouriertransformation\")\n",
    "plt.show()"
   ]
  },
  {
   "cell_type": "markdown",
   "metadata": {},
   "source": [
    "Daraus wird ersichtlich, das unser Schlüssellängenkandidat $|\\hat{K}|$ der folgende sein muss:\n",
    "$ \\arg \\max |\\mathcal{F}_x(\\xi)| $\n",
    "\n",
    "### Partitionierung\n",
    "Im nächsten Schritt wollen wir das Chiffrat in $|\\hat{K}|$ viele Partitionen unterteilen, deren Buchstaben Indizes im Modul $|\\hat{K}|$ zur selben Restklasse gehören. Da alle Buchstaben einer Partition mit dem selben Schlüsselbuchstaben verschlüsselt wurden, lässt sich mittels einer Häufigkeitsanalyse der Schlüsselbuchstabe einer Partition erkennen. Dazu entschlüsseln wir jede Partition mit allen 26 möglichen Schlüsseln $K_i$ und vergleichen die Häufigkeitsanalyse des entschlüsselten Textes $f(Caesar_\\hat{K_i}^{-1}(C))$ mit der erwarteten Buchstabenhäufigkeit im Deutschen $f(German)$ unter zur hilfenahme des Fehlerquadrats: \n",
    "$$MSE := (f(Caesar_\\hat{K_i}^{-1}(C)) - f(German))^2$$\n",
    "Das $\\hat{K_i}$ mit der niedrigsten Abweichung für die i-te Partition ist unser Kandidat für den Schlüsselbuchstaben."
   ]
  },
  {
   "cell_type": "code",
   "execution_count": 7,
   "metadata": {},
   "outputs": [
    {
     "name": "stdout",
     "output_type": "stream",
     "text": [
      "MATHE\n"
     ]
    }
   ],
   "source": [
    "keylength = transform.index(max(transform)) + 2 # Verschiebung durch untere Intervalbegrenzung von 2\n",
    "\n",
    "partitions = [ciphertext[i::keylength] for i in range(keylength)]\n",
    "\n",
    "german = {'A': 0.0651, 'B': 0.0189, 'C': 0.0306, 'D': 0.0508, 'E': 0.174, 'F': 0.0166, 'G': 0.0301, 'H': 0.0476, 'I': 0.0755, 'J': 0.0027, 'K': 0.0121, 'L': 0.0344, 'M': 0.0253, 'N': 0.0978, 'O': 0.02501, 'P': 0.0079, 'Q': 0.0002, 'R': 0.07, 'S': 0.0727, 'T': 0.0615, 'U': 0.0435, 'V': 0.0067, 'W': 0.0189, 'X': 0.0003, 'Y': 0.0004, 'Z': 0.0113}\n",
    "alphabet = \"ABCDEFGHIJKLMNOPQRSTUVWXYZ\"\n",
    "\n",
    "def frequency_analysis(text):\n",
    "    return {char: text.count(char)/len(text) for char in alphabet}\n",
    "\n",
    "def caesar(plain, key):\n",
    "    return \"\".join([alphabet[(alphabet.index(char)-alphabet.index(key)%26)] for char in plain])\n",
    "\n",
    "def mean_squared_error(a,b):\n",
    "    return sum((a[char]-b[char])**2 for char in alphabet)\n",
    "\n",
    "def arg_min(x):\n",
    "    return min(enumerate(x), key = lambda item: item[1])[0]\n",
    "\n",
    "def min_deviation(text):\n",
    "    return arg_min([mean_squared_error(german, frequency_analysis(caesar(text, char))) for char in alphabet])\n",
    "\n",
    "key = \"\".join([alphabet[min_deviation(partition)] for partition in partitions])\n",
    "\n",
    "print(key)"
   ]
  },
  {
   "cell_type": "markdown",
   "metadata": {},
   "source": [
    "### Entschlüsselung\n",
    "\n",
    "Abschließend entschlüsseln wir das Chiffrat mit unserem Schlüsselkandidaten."
   ]
  },
  {
   "cell_type": "code",
   "execution_count": 8,
   "metadata": {},
   "outputs": [
    {
     "name": "stdout",
     "output_type": "stream",
     "text": [
      "DIEKRYPTOLOGIELAESSTSICHAUCHINDIEBEIDENGEBIETEKRYPTOGRAPHIEMODERNERESCHREIBWEISEAUCHKRYPTOGRAFIEUNDKRYPTOANALYSEMODERNERESCHREIBWEISEAUCHKRYPTANALYSEUNTERTEILENDIESEEINTEILUNGENTWICKELTEDERRUSSISCHAMERIKANISCHEKRYPTOLOGEWILLIAMFRIEDMANENDEDESERSTENWELTKRIEGESVONIHMSTAMMENSOWOHLDIEBEGRIFFSDEFINITIONENWIEAUCHDIEABGRENZUNGUNTEREINANDERDEMFOLGENDBESCHAEFTIGTSICHDIEKRYPTOGRAPHIEMITDERENTWICKLUNGUNDANWENDUNGDEREINZELNENVERFAHRENUNDDIEKRYPTOANALYSEMITDERENSTAERKENUNDSCHWAECHENANDERSFORMULIERTBEFASSTSICHDIEKRYPTOGRAPHIEMITDERSICHERHEITDEREIGENENGEHEIMENKOMMUNIKATIONGEGENUNBEFUGTEENTZIFFERUNGODERVERAENDERUNGWAEHRENDDIEKRYPTOANALYSEQUASIALSGEGENSPIELERINDERKRYPTOGRAPHIEDASBRECHENDERSICHERHEITDERKOMMUNIKATIONZUMZIELHATKRYPTOGRAPHIEUNDKRYPTOANALYSEWERDENDAHERAUCHALSDEFENSIVEUNDOFFENSIVEKRYPTOLOGIEBEZEICHNET\n"
     ]
    }
   ],
   "source": [
    "def vigenere(plain, key):\n",
    "    return \"\".join([caesar(char, key[i%len(key)]) for i, char in enumerate(plain)])\n",
    "\n",
    "plaintext = vigenere(ciphertext, key)\n",
    "\n",
    "print(plaintext)"
   ]
  },
  {
   "cell_type": "markdown",
   "metadata": {},
   "source": [
    "`DIE KRYPTOLOGIE LAESST SICH AUCH IN DIE BEIDEN GEBIETE KRYPTOGRAPHIE MODERNERE SCHREIBWEISE AUCH KRYPTOGRAFIE UND KRYPTOANALYSE MODERNERE SCHREIBWEISE AUCH KRYPTANALYSE UNTERTEILEN DIESE EINTEILUNG ENTWICKELTE DER RUSSISCHAMERIKANISCHE KRYPTOLOGE WILLIAM FRIEDMAN ENDE DES ERSTEN WELT KRIEGES VON IHM STAMMEN SOWOHL DIE BEGRIFFSDEFINITIONEN WIE AUCH DIE ABGRENZUNG UNTER EINANDER DEM FOLGEND BESCHAEFTIGT SICH DIE KRYPTOGRAPHIE MIT DER ENTWICKLUNG UND ANWENDUNG DER EINZELNEN VERFAHREN UND DIE KRYPTOANALYSE MIT DEREN STAERKEN UND SCHWAECHEN ANDERS FORMULIERT BEFASST SICH DIE KRYPTOGRAPHIE MIT DER SICHERHEIT DER EIGENEN GEHEIMENKOMMUNIKATION GEGEN UNBEFUGTE ENTZIFFERUNG ODER VERAENDERUNG WAEHREND DIE KRYPTOANALYSE QUASI ALS GEGENSPIELER IN DER KRYPTOGRAPHIE DAS BRECHEN DER SICHERHEIT DERKOMMUNIKATION ZUM ZIEL HAT KRYPTOGRAPHIE UND KRYPTOANALYSE WERDEN DAHER AUCH ALS DEFENSIVE UND OFFENSIVE KRYPTOLOGIE BEZEICHNET`"
   ]
  }
 ],
 "metadata": {
  "kernelspec": {
   "display_name": "Python 3",
   "language": "python",
   "name": "python3"
  },
  "language_info": {
   "codemirror_mode": {
    "name": "ipython",
    "version": 3
   },
   "file_extension": ".py",
   "mimetype": "text/x-python",
   "name": "python",
   "nbconvert_exporter": "python",
   "pygments_lexer": "ipython3",
   "version": "3.7.4"
  }
 },
 "nbformat": 4,
 "nbformat_minor": 2
}
