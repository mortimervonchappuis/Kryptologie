{
 "cells": [
  {
   "cell_type": "markdown",
   "metadata": {},
   "source": [
    "# Miller-Rabin Primtest"
   ]
  },
  {
   "cell_type": "code",
   "execution_count": null,
   "metadata": {},
   "outputs": [
    {
     "name": "stdout",
     "output_type": "stream",
     "text": [
      "True\n",
      "17\n",
      "37\n"
     ]
    }
   ],
   "source": [
    "from random import randrange\n",
    "from math import log, trunc, ceil\n",
    "\n",
    "def pow(x, n, m=None):\n",
    "    if not n: return 1\n",
    "    base = {0: 1}\n",
    "    if m is None:\n",
    "        for i in range(trunc(log(n, 2))):\n",
    "            base[i+1] = (base[i] * x)\n",
    "    else:\n",
    "        for i in range(trunc(log(n, 2))):\n",
    "            base[i+1] = (base[i] * x)%m\n",
    "    if m is None:\n",
    "        while n > 1:\n",
    "            l = trunc(log(n, 2))\n",
    "            x = (x * base[l])\n",
    "            n -= l\n",
    "    else:\n",
    "        while n > 1:\n",
    "            l = trunc(log(n, 2))\n",
    "            x = (x * base[l])%m\n",
    "            n -= l\n",
    "    return x\n",
    "\n",
    "\n",
    "def miller_rabin(n, it=1000):\n",
    "    return all(witness(n, randrange(1, n)) for _ in range(it))\n",
    "\n",
    "\n",
    "def witness(n, a, status=False):\n",
    "    k = n-1\n",
    "    x = pow(a, k, n) \n",
    "    while x == 1 and k % 2 == 0:\n",
    "        k >>= 1\n",
    "        x = pow(a, k, n)\n",
    "        #print(f\"n={n} a={a} x={x}, k={k}\")\n",
    "    return x in (1, n-1)\n",
    "\n",
    "\n",
    "def next_prime(n, it=1000):\n",
    "    n += (1&n)^1\n",
    "    while not miller_rabin(n, it):\n",
    "        n += 2\n",
    "    return n\n",
    "\n",
    "print(miller_rabin(17))\n",
    "\n",
    "test = [(17, 5, 17), (32, 5, 37), (pow(10, 100), 10, pow(10, 100) + 267)]\n",
    "\n",
    "for a, b, c in test:\n",
    "    print(next_prime(a, b))\n",
    "\n",
    "if all(next_prime(a, b) == c for a, b, c in test):\n",
    "    print(\"NextPrime Test Bestanden\")\n",
    "\n"
   ]
  },
  {
   "cell_type": "code",
   "execution_count": null,
   "metadata": {},
   "outputs": [],
   "source": [
    "from math import log, trunc, ceil\n",
    "\n",
    "def pow(x, n, m=None):\n",
    "    if not n: return 1\n",
    "    base = {0: 1}\n",
    "    if m is None:\n",
    "        for i in range(trunc(log(n, 2))):\n",
    "            base[i+1] = (base[i] * x)\n",
    "    else:\n",
    "        for i in range(trunc(log(n, 2))):\n",
    "            base[i+1] = (base[i] * x)%m\n",
    "    if m is None:\n",
    "        while n > 1:\n",
    "            l = trunc(log(n, 2))\n",
    "            x = (x * base[l])\n",
    "            n -= l\n",
    "    else:\n",
    "        while n > 1:\n",
    "            l = trunc(log(n, 2))\n",
    "            x = (x * base[l])%m\n",
    "            n -= l\n",
    "    return x\n",
    "\n",
    "pow(10, 100)"
   ]
  }
 ],
 "metadata": {
  "kernelspec": {
   "display_name": "Python 3",
   "language": "python",
   "name": "python3"
  },
  "language_info": {
   "codemirror_mode": {
    "name": "ipython",
    "version": 3
   },
   "file_extension": ".py",
   "mimetype": "text/x-python",
   "name": "python",
   "nbconvert_exporter": "python",
   "pygments_lexer": "ipython3",
   "version": "3.8.0"
  }
 },
 "nbformat": 4,
 "nbformat_minor": 2
}
